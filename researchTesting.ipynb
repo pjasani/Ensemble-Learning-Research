{
 "cells": [
  {
   "cell_type": "code",
   "execution_count": 1,
   "id": "entire-messenger",
   "metadata": {},
   "outputs": [],
   "source": [
    "# Credit: some of the snippets containing the plotting for the code below were taken from kaggle"
   ]
  },
  {
   "cell_type": "code",
   "execution_count": 2,
   "id": "naughty-outdoors",
   "metadata": {},
   "outputs": [],
   "source": [
    "import warnings\n",
    "warnings.filterwarnings('ignore')"
   ]
  },
  {
   "cell_type": "code",
   "execution_count": 3,
   "id": "pleased-antibody",
   "metadata": {},
   "outputs": [],
   "source": [
    "import numpy as np\n",
    "import pandas as pd\n",
    "from pandas import Series, DataFrame\n",
    "import matplotlib.pyplot as plt\n",
    "import seaborn as sns\n",
    "from sklearn.metrics import accuracy_score\n",
    "from pprint import pprint\n",
    "from sklearn.model_selection import StratifiedKFold"
   ]
  },
  {
   "cell_type": "code",
   "execution_count": 4,
   "id": "conscious-citation",
   "metadata": {},
   "outputs": [
    {
     "data": {
      "text/html": [
       "<div>\n",
       "<style scoped>\n",
       "    .dataframe tbody tr th:only-of-type {\n",
       "        vertical-align: middle;\n",
       "    }\n",
       "\n",
       "    .dataframe tbody tr th {\n",
       "        vertical-align: top;\n",
       "    }\n",
       "\n",
       "    .dataframe thead th {\n",
       "        text-align: right;\n",
       "    }\n",
       "</style>\n",
       "<table border=\"1\" class=\"dataframe\">\n",
       "  <thead>\n",
       "    <tr style=\"text-align: right;\">\n",
       "      <th></th>\n",
       "      <th>age</th>\n",
       "      <th>sex</th>\n",
       "      <th>cp</th>\n",
       "      <th>trtbps</th>\n",
       "      <th>chol</th>\n",
       "      <th>fbs</th>\n",
       "      <th>restecg</th>\n",
       "      <th>thalachh</th>\n",
       "      <th>exng</th>\n",
       "      <th>oldpeak</th>\n",
       "      <th>slp</th>\n",
       "      <th>caa</th>\n",
       "      <th>thall</th>\n",
       "      <th>output</th>\n",
       "    </tr>\n",
       "  </thead>\n",
       "  <tbody>\n",
       "    <tr>\n",
       "      <th>0</th>\n",
       "      <td>63</td>\n",
       "      <td>1</td>\n",
       "      <td>3</td>\n",
       "      <td>145</td>\n",
       "      <td>233</td>\n",
       "      <td>1</td>\n",
       "      <td>0</td>\n",
       "      <td>150</td>\n",
       "      <td>0</td>\n",
       "      <td>2.3</td>\n",
       "      <td>0</td>\n",
       "      <td>0</td>\n",
       "      <td>1</td>\n",
       "      <td>1</td>\n",
       "    </tr>\n",
       "    <tr>\n",
       "      <th>1</th>\n",
       "      <td>37</td>\n",
       "      <td>1</td>\n",
       "      <td>2</td>\n",
       "      <td>130</td>\n",
       "      <td>250</td>\n",
       "      <td>0</td>\n",
       "      <td>1</td>\n",
       "      <td>187</td>\n",
       "      <td>0</td>\n",
       "      <td>3.5</td>\n",
       "      <td>0</td>\n",
       "      <td>0</td>\n",
       "      <td>2</td>\n",
       "      <td>1</td>\n",
       "    </tr>\n",
       "  </tbody>\n",
       "</table>\n",
       "</div>"
      ],
      "text/plain": [
       "   age  sex  cp  trtbps  chol  fbs  restecg  thalachh  exng  oldpeak  slp  \\\n",
       "0   63    1   3     145   233    1        0       150     0      2.3    0   \n",
       "1   37    1   2     130   250    0        1       187     0      3.5    0   \n",
       "\n",
       "   caa  thall  output  \n",
       "0    0      1       1  \n",
       "1    0      2       1  "
      ]
     },
     "execution_count": 4,
     "metadata": {},
     "output_type": "execute_result"
    }
   ],
   "source": [
    "df = pd.read_csv(\"heart.csv\")\n",
    "df.head(2)"
   ]
  },
  {
   "cell_type": "markdown",
   "id": "turkish-yugoslavia",
   "metadata": {},
   "source": [
    "### About this dataset - Info from Kaggle\n",
    "*  **Age** : Age of the patient\n",
    "\n",
    "*  **Sex**: Sex of the patient\n",
    "\n",
    "*  **exang**: exercise induced angina (1 = yes; 0 = no)\n",
    "\n",
    "*  **ca**: number of major vessels (0-3)\n",
    "\n",
    "*  **cp** : Chest Pain type chest pain type\n",
    "    * Value 1: typical angina\n",
    "    * Value 2: atypical angina\n",
    "    * Value 3: non-anginal pain\n",
    "    * Value 4: asymptomatic\n",
    "*  **trtbps** : resting blood pressure (in mm Hg)\n",
    "\n",
    "*  **chol** : cholestoral in mg/dl fetched via BMI sensor\n",
    "\n",
    "*  **fbs** : (fasting blood sugar > 120 mg/dl) (1 = true; 0 = false)\n",
    "\n",
    "*  **rest_ecg** : resting electrocardiographic results\n",
    "    * Value 0: normal\n",
    "    * Value 1: having ST-T wave abnormality (T wave inversions and/or ST elevation or depression of > 0.05 mV)\n",
    "    * Value 2: showing probable or definite left ventricular hypertrophy by Estes' criteria\n",
    "    * thalach : maximum heart rate achieved\n",
    "\n",
    "*  **output** : 0= less chance of heart attack 1= more chance of heart attack"
   ]
  },
  {
   "cell_type": "code",
   "execution_count": 5,
   "id": "furnished-customer",
   "metadata": {},
   "outputs": [
    {
     "name": "stdout",
     "output_type": "stream",
     "text": [
      "<class 'pandas.core.frame.DataFrame'>\n",
      "RangeIndex: 303 entries, 0 to 302\n",
      "Data columns (total 14 columns):\n",
      " #   Column    Non-Null Count  Dtype  \n",
      "---  ------    --------------  -----  \n",
      " 0   age       303 non-null    int64  \n",
      " 1   sex       303 non-null    int64  \n",
      " 2   cp        303 non-null    int64  \n",
      " 3   trtbps    303 non-null    int64  \n",
      " 4   chol      303 non-null    int64  \n",
      " 5   fbs       303 non-null    int64  \n",
      " 6   restecg   303 non-null    int64  \n",
      " 7   thalachh  303 non-null    int64  \n",
      " 8   exng      303 non-null    int64  \n",
      " 9   oldpeak   303 non-null    float64\n",
      " 10  slp       303 non-null    int64  \n",
      " 11  caa       303 non-null    int64  \n",
      " 12  thall     303 non-null    int64  \n",
      " 13  output    303 non-null    int64  \n",
      "dtypes: float64(1), int64(13)\n",
      "memory usage: 33.3 KB\n"
     ]
    }
   ],
   "source": [
    "df.info()"
   ]
  },
  {
   "cell_type": "code",
   "execution_count": 6,
   "id": "electric-decline",
   "metadata": {},
   "outputs": [
    {
     "data": {
      "text/plain": [
       "age         False\n",
       "sex         False\n",
       "cp          False\n",
       "trtbps      False\n",
       "chol        False\n",
       "fbs         False\n",
       "restecg     False\n",
       "thalachh    False\n",
       "exng        False\n",
       "oldpeak     False\n",
       "slp         False\n",
       "caa         False\n",
       "thall       False\n",
       "output      False\n",
       "dtype: bool"
      ]
     },
     "execution_count": 6,
     "metadata": {},
     "output_type": "execute_result"
    }
   ],
   "source": [
    "df.isnull().any()"
   ]
  },
  {
   "cell_type": "code",
   "execution_count": 7,
   "id": "automatic-progressive",
   "metadata": {},
   "outputs": [
    {
     "name": "stdout",
     "output_type": "stream",
     "text": [
      "1    165\n",
      "0    138\n",
      "Name: output, dtype: int64\n"
     ]
    },
    {
     "data": {
      "image/png": "[encoded data removed]",
      "text/plain": [
       "<Figure size 432x288 with 1 Axes>"
      ]
     },
     "metadata": {
      "needs_background": "light"
     },
     "output_type": "display_data"
    }
   ],
   "source": [
    "# plot clas distribution\n",
    "sns.countplot(df['output'])\n",
    "print(df['output'].value_counts())\n",
    "for index, value in enumerate([df['output'].value_counts()[0], df['output'].value_counts()[1]]):\n",
    "    plt.text(index, value,  str(value))\n",
    "\n",
    "plt.xlabel(\"Class Labels\")\n",
    "plt.ylabel(\"Counts\")\n",
    "plt.title(\"Target Class Distribution\")\n",
    "plt.show()"
   ]
  },
  {
   "cell_type": "code",
   "execution_count": 8,
   "id": "latin-classic",
   "metadata": {},
   "outputs": [
    {
     "data": {
      "text/plain": [
       "1    165\n",
       "0    138\n",
       "Name: output, dtype: int64"
      ]
     },
     "execution_count": 8,
     "metadata": {},
     "output_type": "execute_result"
    }
   ],
   "source": [
    "df['output'].value_counts()"
   ]
  },
  {
   "cell_type": "markdown",
   "id": "alternative-savage",
   "metadata": {},
   "source": [
    "### Relation ship between attribute and target column"
   ]
  },
  {
   "cell_type": "code",
   "execution_count": 9,
   "id": "cosmetic-wellington",
   "metadata": {},
   "outputs": [
    {
     "data": {
      "image/png": "[encoded data removed]",
      "text/plain": [
       "<Figure size 576x432 with 1 Axes>"
      ]
     },
     "metadata": {
      "needs_background": "light"
     },
     "output_type": "display_data"
    },
    {
     "name": "stdout",
     "output_type": "stream",
     "text": [
      "The plot shows that people between the age 50-60 bear highest risk to get a heary attack followed by ages range 40-45\n"
     ]
    }
   ],
   "source": [
    "# plot to see people under what age bear high heart attack risk\n",
    "df[df['output']==1]['age'].plot(kind='hist',figsize=(8,6),rwidth=0.95,histtype='bar',stacked=True,color\n",
    "='r',alpha=0.70,bins=[40,50,60,70], legend = True)\n",
    "df[df['output']==0]['age'].plot(kind='hist',figsize=(8,6),rwidth=0.95,histtype='bar',stacked=True,color\n",
    "='g',alpha=0.5,bins=[40,50,60,70], legend = True)\n",
    "plt.show()\n",
    "print(\"The plot shows that people between the age 50-60 bear highest risk to get a heary attack followed by ages range 40-45\")"
   ]
  },
  {
   "cell_type": "markdown",
   "id": "structured-jackson",
   "metadata": {},
   "source": [
    "### Sex vs risk of heart attack"
   ]
  },
  {
   "cell_type": "code",
   "execution_count": 14,
   "id": "acknowledged-column",
   "metadata": {},
   "outputs": [
    {
     "data": {
      "image/png": "[encoded data removed]",
      "text/plain": [
       "<Figure size 576x432 with 1 Axes>"
      ]
     },
     "metadata": {
      "needs_background": "light"
     },
     "output_type": "display_data"
    }
   ],
   "source": [
    "# plot sex vs. higher risk of heart attack\n",
    "y0 = df[df['output']==0].groupby('sex')['output'].count()\n",
    "y1 = df[df['output']==1].groupby('sex')['output'].count()\n",
    "fig = plt.subplots(figsize =(8, 6))\n",
    "p1 = plt.bar(np.arange(0,2),y0,label='Safe')\n",
    "p2 = plt.bar(np.arange(0,2),y1,bottom=y0,label='Risk')\n",
    "plt.ylabel('Count')\n",
    "plt.title('Genderwise distribution of risk')\n",
    "plt.xlabel('Gender')\n",
    "plt.legend()\n",
    "plt.show()"
   ]
  },
  {
   "cell_type": "markdown",
   "id": "headed-viewer",
   "metadata": {},
   "source": [
    "### Exang vs hear attak risk"
   ]
  },
  {
   "cell_type": "code",
   "execution_count": 15,
   "id": "undefined-secretary",
   "metadata": {},
   "outputs": [
    {
     "data": {
      "image/png": "[encoded data removed]",
      "text/plain": [
       "<Figure size 576x432 with 1 Axes>"
      ]
     },
     "metadata": {
      "needs_background": "light"
     },
     "output_type": "display_data"
    },
    {
     "name": "stdout",
     "output_type": "stream",
     "text": [
      "people who do not have exercise induced angina have higher heart attack risk\n"
     ]
    }
   ],
   "source": [
    "# plot exng vs heart attack risk\n",
    "y0 = df[df['output']==0].groupby('exng')['output'].count()\n",
    "y1 = df[df['output']==1].groupby('exng')['output'].count()\n",
    "\n",
    "fig = plt.subplots(figsize =(8, 6))\n",
    "p1 = plt.bar(np.arange(0,2),y0,label='Safe')\n",
    "p2 = plt.bar(np.arange(0,2),y1,bottom=y0,label='Risk')\n",
    "plt.ylabel('Count')\n",
    "plt.title('Exercise induced angina and heart risk')\n",
    "plt.xlabel('Exng')\n",
    "plt.legend()\n",
    "plt.show()\n",
    "print(\"people who do not have exercise induced angina have higher heart attack risk\")"
   ]
  },
  {
   "cell_type": "markdown",
   "id": "other-error",
   "metadata": {},
   "source": [
    "### number of vasals vs heart attack risk"
   ]
  },
  {
   "cell_type": "code",
   "execution_count": 16,
   "id": "pursuant-manitoba",
   "metadata": {},
   "outputs": [
    {
     "data": {
      "image/png": "[encoded data removed]",
      "text/plain": [
       "<Figure size 576x432 with 1 Axes>"
      ]
     },
     "metadata": {
      "needs_background": "light"
     },
     "output_type": "display_data"
    },
    {
     "name": "stdout",
     "output_type": "stream",
     "text": [
      "We cans see that as the number of major vessals increase the risk of heart attack decreases.\n"
     ]
    }
   ],
   "source": [
    "# plot number of vasals vs heart attack risk\n",
    "y0 = df[df['output']==0].groupby('caa')['output'].count()\n",
    "y1 = df[df['output']==1].groupby('caa')['output'].count()\n",
    "fig = plt.subplots(figsize =(8, 6))\n",
    "p1 = plt.bar(np.arange(0,5),y0,label='Safe')\n",
    "p2 = plt.bar(np.arange(0,5),y1,bottom=y0,label='Risk')\n",
    "plt.ylabel('Count')\n",
    "plt.title('Number of Major Vessels and heart risk')\n",
    "plt.xlabel('Num of Major Vessels-caa')\n",
    "plt.legend()\n",
    "plt.show()\n",
    "print(\"We cans see that as the number of major vessals increase the risk of heart attack decreases.\")"
   ]
  },
  {
   "cell_type": "code",
   "execution_count": 17,
   "id": "every-complement",
   "metadata": {},
   "outputs": [],
   "source": [
    "# seperate data from the label output column\n",
    "x = df.drop('output', axis=1)\n",
    "y = df['output']"
   ]
  },
  {
   "cell_type": "markdown",
   "id": "above-modeling",
   "metadata": {},
   "source": [
    "### Split the data to training and testing set"
   ]
  },
  {
   "cell_type": "code",
   "execution_count": 18,
   "id": "funky-drilling",
   "metadata": {},
   "outputs": [],
   "source": [
    "from sklearn.model_selection import train_test_split\n",
    "X_train,X_test,Y_train,Y_test = train_test_split(x,y,test_size=0.20)"
   ]
  },
  {
   "cell_type": "markdown",
   "id": "fiscal-oxide",
   "metadata": {},
   "source": [
    "### Pre-process"
   ]
  },
  {
   "cell_type": "code",
   "execution_count": 19,
   "id": "violent-agreement",
   "metadata": {},
   "outputs": [],
   "source": [
    "from sklearn.preprocessing import StandardScaler\n",
    "scaler = StandardScaler()\n",
    "X_train = scaler.fit_transform(X_train)\n",
    "X_test = scaler.transform(X_test)"
   ]
  },
  {
   "cell_type": "markdown",
   "id": "closed-judge",
   "metadata": {},
   "source": [
    "### GaussianNB"
   ]
  },
  {
   "cell_type": "code",
   "execution_count": 20,
   "id": "organic-candidate",
   "metadata": {},
   "outputs": [
    {
     "name": "stdout",
     "output_type": "stream",
     "text": [
      "Wall time: 8.01 ms\n"
     ]
    },
    {
     "data": {
      "text/plain": [
       "0.7704918032786885"
      ]
     },
     "execution_count": 20,
     "metadata": {},
     "output_type": "execute_result"
    }
   ],
   "source": [
    "%%time\n",
    "from sklearn.naive_bayes import GaussianNB\n",
    "nb_classifier = GaussianNB()\n",
    "nb_classifier.fit(X_train,Y_train)\n",
    "Y_pred_NB = nb_classifier.predict(X_test)\n",
    "nb_score = accuracy_score(Y_test,Y_pred_NB)\n",
    "nb_score"
   ]
  },
  {
   "cell_type": "markdown",
   "id": "quick-treasure",
   "metadata": {},
   "source": [
    "### Random Forest"
   ]
  },
  {
   "cell_type": "code",
   "execution_count": 21,
   "id": "brazilian-friendly",
   "metadata": {},
   "outputs": [
    {
     "name": "stdout",
     "output_type": "stream",
     "text": [
      "Wall time: 204 ms\n"
     ]
    },
    {
     "data": {
      "text/plain": [
       "0.7704918032786885"
      ]
     },
     "execution_count": 21,
     "metadata": {},
     "output_type": "execute_result"
    }
   ],
   "source": [
    "%%time\n",
    "from sklearn.ensemble import RandomForestClassifier\n",
    "rf_classifier = RandomForestClassifier(n_estimators=50)\n",
    "rf_classifier.fit(X_train,Y_train)\n",
    "Y_Pred_RF = rf_classifier.predict(X_test)\n",
    "rf_score = accuracy_score(Y_test,Y_Pred_RF)\n",
    "rf_score"
   ]
  },
  {
   "cell_type": "markdown",
   "id": "available-millennium",
   "metadata": {},
   "source": [
    "### Linear SVC"
   ]
  },
  {
   "cell_type": "code",
   "execution_count": 22,
   "id": "pressing-opera",
   "metadata": {},
   "outputs": [
    {
     "name": "stdout",
     "output_type": "stream",
     "text": [
      "Wall time: 6.66 ms\n"
     ]
    },
    {
     "data": {
      "text/plain": [
       "0.7540983606557377"
      ]
     },
     "execution_count": 22,
     "metadata": {},
     "output_type": "execute_result"
    }
   ],
   "source": [
    "%%time\n",
    "from sklearn.svm import LinearSVC\n",
    "svc = LinearSVC()\n",
    "svc.fit(X_train, Y_train)\n",
    "svc_pred = svc.predict(X_test)\n",
    "svc_score = accuracy_score(Y_test,svc_pred)\n",
    "svc_score"
   ]
  },
  {
   "cell_type": "markdown",
   "id": "distinguished-telling",
   "metadata": {},
   "source": [
    "### Performance accuracies"
   ]
  },
  {
   "cell_type": "code",
   "execution_count": 23,
   "id": "individual-teacher",
   "metadata": {},
   "outputs": [
    {
     "data": {
      "text/html": [
       "<div>\n",
       "<style scoped>\n",
       "    .dataframe tbody tr th:only-of-type {\n",
       "        vertical-align: middle;\n",
       "    }\n",
       "\n",
       "    .dataframe tbody tr th {\n",
       "        vertical-align: top;\n",
       "    }\n",
       "\n",
       "    .dataframe thead th {\n",
       "        text-align: right;\n",
       "    }\n",
       "</style>\n",
       "<table border=\"1\" class=\"dataframe\">\n",
       "  <thead>\n",
       "    <tr style=\"text-align: right;\">\n",
       "      <th></th>\n",
       "      <th>Model</th>\n",
       "      <th>AccuracyScore</th>\n",
       "    </tr>\n",
       "  </thead>\n",
       "  <tbody>\n",
       "    <tr>\n",
       "      <th>0</th>\n",
       "      <td>Gaussian Naive Bayes</td>\n",
       "      <td>77.049180</td>\n",
       "    </tr>\n",
       "    <tr>\n",
       "      <th>1</th>\n",
       "      <td>Random Forest</td>\n",
       "      <td>77.049180</td>\n",
       "    </tr>\n",
       "    <tr>\n",
       "      <th>2</th>\n",
       "      <td>SVC</td>\n",
       "      <td>75.409836</td>\n",
       "    </tr>\n",
       "  </tbody>\n",
       "</table>\n",
       "</div>"
      ],
      "text/plain": [
       "                  Model  AccuracyScore\n",
       "0  Gaussian Naive Bayes      77.049180\n",
       "1         Random Forest      77.049180\n",
       "2                   SVC      75.409836"
      ]
     },
     "execution_count": 23,
     "metadata": {},
     "output_type": "execute_result"
    }
   ],
   "source": [
    "score_df = pd.DataFrame({'Model':['Gaussian Naive Bayes','Random Forest', \"SVC\"],'AccuracyScore':[nb_score*100,rf_score*100, svc_score*100]})\n",
    "score_df"
   ]
  },
  {
   "cell_type": "markdown",
   "id": "characteristic-wellington",
   "metadata": {},
   "source": [
    "### Plot base learner accuracies"
   ]
  },
  {
   "cell_type": "code",
   "execution_count": 24,
   "id": "adjustable-light",
   "metadata": {},
   "outputs": [
    {
     "data": {
      "image/png": "[encoded data removed]",
      "text/plain": [
       "<Figure size 432x288 with 1 Axes>"
      ]
     },
     "metadata": {
      "needs_background": "light"
     },
     "output_type": "display_data"
    }
   ],
   "source": [
    "# Plot the accuracies of chosen base learners\n",
    "info = score_df.to_dict()\n",
    "for val in range(len(info[\"Model\"])):\n",
    "    plt.bar(info[\"Model\"][val], info[\"AccuracyScore\"][val])\n",
    "\n",
    "for index, value in enumerate(info[\"AccuracyScore\"].items()):\n",
    "    plt.text(index, value[1],  str(round(value[1],2)) + \"%\")\n",
    "\n",
    "plt.xlabel(\"Base learners\")\n",
    "plt.ylabel(\"% Accuracy\")\n",
    "plt.title(\"Base learner accuracies\")\n",
    "plt.show()"
   ]
  },
  {
   "cell_type": "markdown",
   "id": "central-restoration",
   "metadata": {},
   "source": [
    "### Plot ROC Curve"
   ]
  },
  {
   "cell_type": "code",
   "execution_count": 25,
   "id": "liked-crazy",
   "metadata": {},
   "outputs": [
    {
     "data": {
      "image/png": "[encoded data removed]",
      "text/plain": [
       "<Figure size 576x432 with 1 Axes>"
      ]
     },
     "metadata": {
      "needs_background": "light"
     },
     "output_type": "display_data"
    }
   ],
   "source": [
    "# plot ROC curve for the chosen base learners\n",
    "from sklearn import metrics\n",
    "plt.figure(figsize=(8,6))\n",
    "\n",
    "def plot_roc(actual, pred, lbl, clr):\n",
    "    fpr, tpr, threhsholds = metrics.roc_curve(actual, pred)\n",
    "    auc_score = metrics.roc_auc_score(actual,pred)\n",
    "    plt.plot(fpr,tpr,color=clr,label='ROC Curve for '+ lbl +' (area=%.2f)'% auc_score)\n",
    "    \n",
    "plot_roc(Y_test,Y_pred_NB,lbl='NB',clr='g')\n",
    "plot_roc(Y_test,Y_Pred_RF,lbl='RF',clr='c')\n",
    "plot_roc(Y_test,svc_pred,lbl='SVC',clr='black')\n",
    "\n",
    "plt.plot([0,1],[0,1],'k--')\n",
    "plt.xlim([0.0,1.0])\n",
    "plt.ylim([0.0,1.05])\n",
    "plt.xlabel('False Positive')\n",
    "plt.ylabel('True Positive')\n",
    "plt.title('Receiver Operative Characteristic Curve')\n",
    "plt.legend()\n",
    "plt.show()"
   ]
  },
  {
   "cell_type": "code",
   "execution_count": 26,
   "id": "horizontal-london",
   "metadata": {},
   "outputs": [],
   "source": [
    "# import required libraries for grid serach and ensemble techniques\n",
    "from sklearn.model_selection import GridSearchCV\n",
    "from sklearn.ensemble import RandomForestClassifier\n",
    "from sklearn.metrics import accuracy_score\n",
    "from sklearn.ensemble import BaggingClassifier, RandomForestClassifier\n",
    "from sklearn.naive_bayes import GaussianNB\n",
    "from sklearn.svm import LinearSVC"
   ]
  },
  {
   "cell_type": "markdown",
   "id": "adequate-expense",
   "metadata": {},
   "source": [
    "# AdaBoostClassifier GridSearch"
   ]
  },
  {
   "cell_type": "code",
   "execution_count": 27,
   "id": "scientific-bachelor",
   "metadata": {},
   "outputs": [],
   "source": [
    "from sklearn.ensemble import AdaBoostClassifier\n",
    "from sklearn.svm import SVC\n",
    "param_grid = {\n",
    " 'n_estimators': [15, 25, 35, 50],\n",
    " 'learning_rate': [0.75, 1.0],\n",
    "}\n",
    "base_estimator_lib= {\"LinearSVC\":SVC(kernel='linear', probability=True), \"GaussianNB\":GaussianNB(), \"RandomForest\":RandomForestClassifier()}"
   ]
  },
  {
   "cell_type": "code",
   "execution_count": 28,
   "id": "emotional-grace",
   "metadata": {},
   "outputs": [
    {
     "name": "stdout",
     "output_type": "stream",
     "text": [
      "{'GaussianNB': {'best_param': AdaBoostClassifier(base_estimator=GaussianNB(), n_estimators=35),\n",
      "                'best_score': 0.6404301075268817},\n",
      " 'LinearSVC': {'best_param': AdaBoostClassifier(base_estimator=SVC(kernel='linear', probability=True),\n",
      "                   n_estimators=15),\n",
      "               'best_score': 0.75247311827957},\n",
      " 'RandomForest': {'best_param': AdaBoostClassifier(base_estimator=RandomForestClassifier(), learning_rate=0.75,\n",
      "                   n_estimators=15),\n",
      "                  'best_score': 0.8412903225806451}}\n",
      "Wall time: 1min 14s\n"
     ]
    }
   ],
   "source": [
    "%%time\n",
    "result = {}\n",
    "for be in base_estimator_lib.keys():\n",
    "    grid_search=GridSearchCV(\n",
    "        AdaBoostClassifier(base_estimator_lib[be]), \n",
    "        param_grid=param_grid, \n",
    "        cv=10)\n",
    "    grid_search.fit(x,y)\n",
    "    result[be] = {\"best_score\":grid_search.best_score_, \"best_param\":grid_search.best_estimator_}\n",
    "pprint(result)"
   ]
  },
  {
   "cell_type": "markdown",
   "id": "intellectual-amino",
   "metadata": {},
   "source": [
    "# Stacking Classifier"
   ]
  },
  {
   "cell_type": "code",
   "execution_count": 29,
   "id": "concrete-acoustic",
   "metadata": {},
   "outputs": [],
   "source": [
    "from sklearn.ensemble import StackingClassifier\n",
    "param_grid = {\n",
    " 'estimators': [(\"rf\", RandomForestClassifier()), (\"GNB\", GaussianNB()), (\"svc\", SVC(kernel='linear', probability=True))],\n",
    " 'cv': [5],\n",
    " 'stack_method': [\"auto\", \"predict_proba\"]\n",
    "}\n",
    "base_estimator_lib= {\"LinearSVC\":SVC(kernel='linear', probability=True), \"GaussianNB\":GaussianNB(), \"RandomForest\":RandomForestClassifier()}"
   ]
  },
  {
   "cell_type": "code",
   "execution_count": 30,
   "id": "logical-practice",
   "metadata": {},
   "outputs": [
    {
     "name": "stdout",
     "output_type": "stream",
     "text": [
      "{'GaussianNB': 0.8032786885245902,\n",
      " 'LinearSVC': 0.8032786885245902,\n",
      " 'RandomForest': 0.7540983606557377}\n",
      "Wall time: 4.71 s\n"
     ]
    }
   ],
   "source": [
    "%%time\n",
    "result = {}\n",
    "for be in base_estimator_lib.keys():\n",
    "    clf = StackingClassifier(estimators=param_grid[\"estimators\"], final_estimator=base_estimator_lib[be], cv = 10, stack_method= \"auto\")\n",
    "    acc = clf.fit(X_train, Y_train).score(X_test, Y_test)\n",
    "    result[be] = acc\n",
    "pprint(result)"
   ]
  },
  {
   "cell_type": "markdown",
   "id": "positive-outside",
   "metadata": {},
   "source": [
    "\n",
    "# Bagging Classifier GridSearch"
   ]
  },
  {
   "cell_type": "code",
   "execution_count": 32,
   "id": "improving-newfoundland",
   "metadata": {},
   "outputs": [],
   "source": [
    "from sklearn.ensemble import BaggingClassifier\n",
    "param_grid = {\n",
    " 'bootstrap': [True, False],\n",
    " 'n_estimators': [15, 25,35, 50],\n",
    " 'max_samples' : [0.8, 1.0]\n",
    "}\n",
    "\n",
    "base_estimator_lib= {\"LinearSVC\":SVC(kernel='linear', probability=True), \"GaussianNB\":GaussianNB(), \"RandomForest\":RandomForestClassifier()}"
   ]
  },
  {
   "cell_type": "code",
   "execution_count": 23,
   "id": "peripheral-billy",
   "metadata": {},
   "outputs": [
    {
     "name": "stdout",
     "output_type": "stream",
     "text": [
      "{'GaussianNB': {'best_param': BaggingClassifier(base_estimator=GaussianNB(), max_samples=0.8, n_estimators=15),\n",
      "                'best_score': 0.8117486338797815},\n",
      " 'LinearSVC': {'best_param': BaggingClassifier(base_estimator=SVC(kernel='linear', probability=True),\n",
      "                  max_samples=0.8, n_estimators=25),\n",
      "               'best_score': 0.8413661202185793},\n",
      " 'RandomForest': {'best_param': BaggingClassifier(base_estimator=RandomForestClassifier(), max_samples=0.8,\n",
      "                  n_estimators=15),\n",
      "                  'best_score': 0.834808743169399}}\n",
      "Wall time: 53min 59s\n"
     ]
    }
   ],
   "source": [
    "%%time  # this section of the code takes approximately 55+ minutes to completely run\n",
    "result = {}\n",
    "\n",
    "for be in base_estimator_lib.keys():\n",
    "    grid_search=GridSearchCV(\n",
    "        BaggingClassifier(base_estimator_lib[be]), \n",
    "        param_grid=param_grid, \n",
    "        cv=10)\n",
    "    \n",
    "    grid_search.fit(x,y)\n",
    "    result[be] = {\"best_score\":grid_search.best_score_, \"best_param\":grid_search.best_estimator_}\n",
    "pprint(result)"
   ]
  },
  {
   "cell_type": "markdown",
   "id": "dirty-romantic",
   "metadata": {},
   "source": [
    "### Time calculations for ensemble technies using best hyper parameters"
   ]
  },
  {
   "cell_type": "markdown",
   "id": "prescription-problem",
   "metadata": {},
   "source": [
    "### Boosting Classifier"
   ]
  },
  {
   "cell_type": "code",
   "execution_count": 43,
   "id": "absolute-timeline",
   "metadata": {},
   "outputs": [
    {
     "name": "stdout",
     "output_type": "stream",
     "text": [
      "Accuracy of Boosting classifier: 0.7868852459016393\n",
      "Wall time: 183 ms\n"
     ]
    }
   ],
   "source": [
    "%%time \n",
    "adb = AdaBoostClassifier(base_estimator = RandomForestClassifier(), n_estimators = 50, learning_rate = 1.0)\n",
    "acc = adb.fit(X_train, Y_train).score(X_test,Y_test)\n",
    "print(\"Accuracy of Boosting classifier:\", acc)"
   ]
  },
  {
   "cell_type": "markdown",
   "id": "industrial-burst",
   "metadata": {},
   "source": [
    "### Staking Classifier"
   ]
  },
  {
   "cell_type": "code",
   "execution_count": 40,
   "id": "collective-concentrate",
   "metadata": {},
   "outputs": [
    {
     "name": "stdout",
     "output_type": "stream",
     "text": [
      "Accuracy of Stacking classifier: 0.8032786885245902\n",
      "Wall time: 837 ms\n"
     ]
    }
   ],
   "source": [
    "%%time\n",
    "clf = StackingClassifier(estimators=param_grid[\"estimators\"], final_estimator=GaussianNB(), stack_method= \"auto\", )\n",
    "acc = clf.fit(X_train, Y_train).score(X_test, Y_test)\n",
    "print(\"Accuracy of Stacking classifier:\", acc)"
   ]
  },
  {
   "cell_type": "markdown",
   "id": "indonesian-revision",
   "metadata": {},
   "source": [
    "### Bagging Classifier"
   ]
  },
  {
   "cell_type": "code",
   "execution_count": 39,
   "id": "tough-position",
   "metadata": {},
   "outputs": [
    {
     "name": "stdout",
     "output_type": "stream",
     "text": [
      "Accuracy of Bagging classifier: 0.7868852459016393\n",
      "Wall time: 5.89 s\n"
     ]
    }
   ],
   "source": [
    "%%time \n",
    "clf = BaggingClassifier(base_estimator = RandomForestClassifier(), n_estimators=50, bootstrap=True, max_samples = 1.0)\n",
    "acc = clf.fit(X_train, Y_train).score(X_test, Y_test)\n",
    "print(\"Accuracy of Bagging classifier:\", acc)"
   ]
  },
  {
   "cell_type": "code",
   "execution_count": null,
   "id": "immediate-capability",
   "metadata": {},
   "outputs": [],
   "source": []
  }
 ],
 "metadata": {
  "kernelspec": {
   "display_name": "Python 3",
   "language": "python",
   "name": "python3"
  },
  "language_info": {
   "codemirror_mode": {
    "name": "ipython",
    "version": 3
   },
   "file_extension": ".py",
   "mimetype": "text/x-python",
   "name": "python",
   "nbconvert_exporter": "python",
   "pygments_lexer": "ipython3",
   "version": "3.7.10"
  }
 },
 "nbformat": 4,
 "nbformat_minor": 5
}
